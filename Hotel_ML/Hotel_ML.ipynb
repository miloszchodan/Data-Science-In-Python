{
 "cells": [
  {
   "cell_type": "code",
   "execution_count": 13,
   "metadata": {
    "collapsed": true
   },
   "outputs": [],
   "source": [
    "import pandas as pd\n",
    "import matplotlib.pyplot as plt\n",
    "import seaborn as sns\n",
    "from sklearn.model_selection import train_test_split\n",
    "from sklearn.ensemble import RandomForestClassifier\n",
    "from sklearn.metrics import accuracy_score, classification_report, confusion_matrix"
   ]
  },
  {
   "cell_type": "code",
   "execution_count": 14,
   "outputs": [],
   "source": [
    "hotels = pd.read_csv(\"Hotel Reservations.csv\")"
   ],
   "metadata": {
    "collapsed": false
   }
  },
  {
   "cell_type": "code",
   "execution_count": 15,
   "outputs": [
    {
     "data": {
      "text/plain": "  Booking_ID  no_of_adults  no_of_children  no_of_weekend_nights  \\\n0   INN00001             2               0                     1   \n1   INN00002             2               0                     2   \n2   INN00003             1               0                     2   \n3   INN00004             2               0                     0   \n4   INN00005             2               0                     1   \n\n   no_of_week_nights type_of_meal_plan  required_car_parking_space  \\\n0                  2       Meal Plan 1                           0   \n1                  3      Not Selected                           0   \n2                  1       Meal Plan 1                           0   \n3                  2       Meal Plan 1                           0   \n4                  1      Not Selected                           0   \n\n  room_type_reserved  lead_time  arrival_year  arrival_month  arrival_date  \\\n0        Room_Type 1        224          2017             10             2   \n1        Room_Type 1          5          2018             11             6   \n2        Room_Type 1          1          2018              2            28   \n3        Room_Type 1        211          2018              5            20   \n4        Room_Type 1         48          2018              4            11   \n\n  market_segment_type  repeated_guest  no_of_previous_cancellations  \\\n0             Offline               0                             0   \n1              Online               0                             0   \n2              Online               0                             0   \n3              Online               0                             0   \n4              Online               0                             0   \n\n   no_of_previous_bookings_not_canceled  avg_price_per_room  \\\n0                                     0               65.00   \n1                                     0              106.68   \n2                                     0               60.00   \n3                                     0              100.00   \n4                                     0               94.50   \n\n   no_of_special_requests booking_status  \n0                       0   Not_Canceled  \n1                       1   Not_Canceled  \n2                       0       Canceled  \n3                       0       Canceled  \n4                       0       Canceled  ",
      "text/html": "<div>\n<style scoped>\n    .dataframe tbody tr th:only-of-type {\n        vertical-align: middle;\n    }\n\n    .dataframe tbody tr th {\n        vertical-align: top;\n    }\n\n    .dataframe thead th {\n        text-align: right;\n    }\n</style>\n<table border=\"1\" class=\"dataframe\">\n  <thead>\n    <tr style=\"text-align: right;\">\n      <th></th>\n      <th>Booking_ID</th>\n      <th>no_of_adults</th>\n      <th>no_of_children</th>\n      <th>no_of_weekend_nights</th>\n      <th>no_of_week_nights</th>\n      <th>type_of_meal_plan</th>\n      <th>required_car_parking_space</th>\n      <th>room_type_reserved</th>\n      <th>lead_time</th>\n      <th>arrival_year</th>\n      <th>arrival_month</th>\n      <th>arrival_date</th>\n      <th>market_segment_type</th>\n      <th>repeated_guest</th>\n      <th>no_of_previous_cancellations</th>\n      <th>no_of_previous_bookings_not_canceled</th>\n      <th>avg_price_per_room</th>\n      <th>no_of_special_requests</th>\n      <th>booking_status</th>\n    </tr>\n  </thead>\n  <tbody>\n    <tr>\n      <th>0</th>\n      <td>INN00001</td>\n      <td>2</td>\n      <td>0</td>\n      <td>1</td>\n      <td>2</td>\n      <td>Meal Plan 1</td>\n      <td>0</td>\n      <td>Room_Type 1</td>\n      <td>224</td>\n      <td>2017</td>\n      <td>10</td>\n      <td>2</td>\n      <td>Offline</td>\n      <td>0</td>\n      <td>0</td>\n      <td>0</td>\n      <td>65.00</td>\n      <td>0</td>\n      <td>Not_Canceled</td>\n    </tr>\n    <tr>\n      <th>1</th>\n      <td>INN00002</td>\n      <td>2</td>\n      <td>0</td>\n      <td>2</td>\n      <td>3</td>\n      <td>Not Selected</td>\n      <td>0</td>\n      <td>Room_Type 1</td>\n      <td>5</td>\n      <td>2018</td>\n      <td>11</td>\n      <td>6</td>\n      <td>Online</td>\n      <td>0</td>\n      <td>0</td>\n      <td>0</td>\n      <td>106.68</td>\n      <td>1</td>\n      <td>Not_Canceled</td>\n    </tr>\n    <tr>\n      <th>2</th>\n      <td>INN00003</td>\n      <td>1</td>\n      <td>0</td>\n      <td>2</td>\n      <td>1</td>\n      <td>Meal Plan 1</td>\n      <td>0</td>\n      <td>Room_Type 1</td>\n      <td>1</td>\n      <td>2018</td>\n      <td>2</td>\n      <td>28</td>\n      <td>Online</td>\n      <td>0</td>\n      <td>0</td>\n      <td>0</td>\n      <td>60.00</td>\n      <td>0</td>\n      <td>Canceled</td>\n    </tr>\n    <tr>\n      <th>3</th>\n      <td>INN00004</td>\n      <td>2</td>\n      <td>0</td>\n      <td>0</td>\n      <td>2</td>\n      <td>Meal Plan 1</td>\n      <td>0</td>\n      <td>Room_Type 1</td>\n      <td>211</td>\n      <td>2018</td>\n      <td>5</td>\n      <td>20</td>\n      <td>Online</td>\n      <td>0</td>\n      <td>0</td>\n      <td>0</td>\n      <td>100.00</td>\n      <td>0</td>\n      <td>Canceled</td>\n    </tr>\n    <tr>\n      <th>4</th>\n      <td>INN00005</td>\n      <td>2</td>\n      <td>0</td>\n      <td>1</td>\n      <td>1</td>\n      <td>Not Selected</td>\n      <td>0</td>\n      <td>Room_Type 1</td>\n      <td>48</td>\n      <td>2018</td>\n      <td>4</td>\n      <td>11</td>\n      <td>Online</td>\n      <td>0</td>\n      <td>0</td>\n      <td>0</td>\n      <td>94.50</td>\n      <td>0</td>\n      <td>Canceled</td>\n    </tr>\n  </tbody>\n</table>\n</div>"
     },
     "execution_count": 15,
     "metadata": {},
     "output_type": "execute_result"
    }
   ],
   "source": [
    "hotels.head()"
   ],
   "metadata": {
    "collapsed": false
   }
  },
  {
   "cell_type": "code",
   "execution_count": 16,
   "outputs": [
    {
     "name": "stdout",
     "output_type": "stream",
     "text": [
      "Booking_ID: ['INN00001' 'INN00002' 'INN00003' ... 'INN36273' 'INN36274' 'INN36275']\n",
      "no_of_adults: [2 1 3 0 4]\n",
      "no_of_children: [ 0  2  1  3 10  9]\n",
      "no_of_weekend_nights: [1 2 0 4 3 6 5 7]\n",
      "no_of_week_nights: [ 2  3  1  4  5  0 10  6 11  7 15  9 13  8 14 12 17 16]\n",
      "type_of_meal_plan: ['Meal Plan 1' 'Not Selected' 'Meal Plan 2' 'Meal Plan 3']\n",
      "required_car_parking_space: [0 1]\n",
      "room_type_reserved: ['Room_Type 1' 'Room_Type 4' 'Room_Type 2' 'Room_Type 6' 'Room_Type 5'\n",
      " 'Room_Type 7' 'Room_Type 3']\n",
      "lead_time: [224   5   1 211  48 346  34  83 121  44   0  35  30  95  47 256  99  12\n",
      " 122   2  37 130  60  56   3 107  72  23 289 247 186  64  96  41  55 146\n",
      "  32  57   7 124 169   6  51  13 100 139 117  39  86  19 192 179  26  74\n",
      " 143 177  18 267 155  46 128  20  40 196 188  17 110  68  73  92 171 134\n",
      " 320 118 189  16  24   8  10 182 116 123 105 443 317 286 148  14  85  25\n",
      "  28  80  11 162  82  27 245 266 112  88  69 273   4  97  31  62 197 280\n",
      " 185 160 104  22 292 109 126 303  81  54  15 161 147  87 127 418 156  58\n",
      " 433 111 195 119  59  78 335 103  70  76 144  49  77  36  79  21  33 164\n",
      " 152  43 102  71 209  93  53 302 239  45 167 113  84   9 166 174  61 151\n",
      "  52  67 282  38 175  89 133  65  66  50 159 386 115 237 125  91  29 221\n",
      " 213 198  75 180 236 120 230  63 136 309 157 268 217  94 305  98  42 154\n",
      " 330 137 184 232 304 114 257 265 191 101 259 149 170 271 207 108 210 222\n",
      " 296 194 145 153 275 158 301 349 200 315 181 263 176 141 270 150 359 244\n",
      " 219 142 138 276 178 163 377 290 216 226 258 254 193 131 208 215 190 381\n",
      " 231 248 106 308 140 173 168 172  90 249 205 129 212 135 220 277 253 132\n",
      " 183 255 223 336 288 229 319 199 203 228 246 235 294 281 202 361 287 291\n",
      " 313 206 269 279 261 214 274 250 187 240 241 323 322 227 225 233 338 283\n",
      " 327 204 352 165 251 299 314 285 238 328 278 332 243 201 307 272 252 242\n",
      " 284 297 324 260 262 326 295 218 234 353 300 355 306 298 331 341 318 333\n",
      " 372 311 310 345 264 325 293 348 350 351]\n",
      "arrival_year: [2017 2018]\n",
      "arrival_month: [10 11  2  5  4  9 12  7  6  8  3  1]\n",
      "arrival_date: [ 2  6 28 20 11 13 15 26 18 30  5 10  4 25 22 21 19 17  7  9 27  1 29 16\n",
      "  3 24 14 31 23  8 12]\n",
      "market_segment_type: ['Offline' 'Online' 'Corporate' 'Aviation' 'Complementary']\n",
      "repeated_guest: [0 1]\n",
      "no_of_previous_cancellations: [ 0  3  1  2 11  4  5 13  6]\n",
      "no_of_previous_bookings_not_canceled: [ 0  5  1  3  4 12 19  2 15 17  7 20 16 50 13  6 14 34 18  8 10 23 11 49\n",
      " 47 53  9 33 22 24 52 21 48 28 39 25 31 38 26 51 42 37 35 56 44 27 32 55\n",
      " 45 30 57 46 54 43 58 41 29 40 36]\n",
      "avg_price_per_room: [ 65.   106.68  60.   ... 118.43 137.25 167.8 ]\n",
      "no_of_special_requests: [0 1 3 2 4 5]\n",
      "booking_status: ['Not_Canceled' 'Canceled']\n"
     ]
    }
   ],
   "source": [
    "for column in hotels:\n",
    "    unique = hotels[column].unique()\n",
    "    print(f\"{column}: {unique}\")"
   ],
   "metadata": {
    "collapsed": false
   }
  },
  {
   "cell_type": "code",
   "execution_count": 17,
   "outputs": [],
   "source": [
    "mapping_meal_plan = {\n",
    "    'Not Selected': 0,\n",
    "    'Meal Plan 1': 1,\n",
    "    'Meal Plan 2': 2,\n",
    "    'Meal Plan 3': 3\n",
    "}\n",
    "hotels['type_of_meal_plan'] = hotels['type_of_meal_plan'].map(mapping_meal_plan)"
   ],
   "metadata": {
    "collapsed": false
   }
  },
  {
   "cell_type": "code",
   "execution_count": 18,
   "outputs": [],
   "source": [
    "mapping_room_type = {\n",
    "    'Room_Type 1': 1,\n",
    "    'Room_Type 2': 2,\n",
    "    'Room_Type 3': 3,\n",
    "    'Room_Type 4': 4,\n",
    "    'Room_Type 5': 5,\n",
    "    'Room_Type 6': 6,\n",
    "    'Room_Type 7': 7\n",
    "}\n",
    "hotels['room_type_reserved'] = hotels['room_type_reserved'].map(mapping_room_type)"
   ],
   "metadata": {
    "collapsed": false
   }
  },
  {
   "cell_type": "code",
   "execution_count": 19,
   "outputs": [],
   "source": [
    "mapping_segment_type = {\n",
    "    'Offline': 0,\n",
    "    'Online': 1,\n",
    "    'Corporate': 2,\n",
    "    'Aviation': 3,\n",
    "    'Complementary': 4\n",
    "}\n",
    "hotels['market_segment_type'] = hotels['market_segment_type'].map(mapping_segment_type)"
   ],
   "metadata": {
    "collapsed": false
   }
  },
  {
   "cell_type": "code",
   "execution_count": 20,
   "outputs": [
    {
     "name": "stdout",
     "output_type": "stream",
     "text": [
      "Booking_ID: ['INN00001' 'INN00002' 'INN00003' ... 'INN36273' 'INN36274' 'INN36275']\n",
      "no_of_adults: [2 1 3 0 4]\n",
      "no_of_children: [ 0  2  1  3 10  9]\n",
      "no_of_weekend_nights: [1 2 0 4 3 6 5 7]\n",
      "no_of_week_nights: [ 2  3  1  4  5  0 10  6 11  7 15  9 13  8 14 12 17 16]\n",
      "type_of_meal_plan: [1 0 2 3]\n",
      "required_car_parking_space: [0 1]\n",
      "room_type_reserved: [1 4 2 6 5 7 3]\n",
      "lead_time: [224   5   1 211  48 346  34  83 121  44   0  35  30  95  47 256  99  12\n",
      " 122   2  37 130  60  56   3 107  72  23 289 247 186  64  96  41  55 146\n",
      "  32  57   7 124 169   6  51  13 100 139 117  39  86  19 192 179  26  74\n",
      " 143 177  18 267 155  46 128  20  40 196 188  17 110  68  73  92 171 134\n",
      " 320 118 189  16  24   8  10 182 116 123 105 443 317 286 148  14  85  25\n",
      "  28  80  11 162  82  27 245 266 112  88  69 273   4  97  31  62 197 280\n",
      " 185 160 104  22 292 109 126 303  81  54  15 161 147  87 127 418 156  58\n",
      " 433 111 195 119  59  78 335 103  70  76 144  49  77  36  79  21  33 164\n",
      " 152  43 102  71 209  93  53 302 239  45 167 113  84   9 166 174  61 151\n",
      "  52  67 282  38 175  89 133  65  66  50 159 386 115 237 125  91  29 221\n",
      " 213 198  75 180 236 120 230  63 136 309 157 268 217  94 305  98  42 154\n",
      " 330 137 184 232 304 114 257 265 191 101 259 149 170 271 207 108 210 222\n",
      " 296 194 145 153 275 158 301 349 200 315 181 263 176 141 270 150 359 244\n",
      " 219 142 138 276 178 163 377 290 216 226 258 254 193 131 208 215 190 381\n",
      " 231 248 106 308 140 173 168 172  90 249 205 129 212 135 220 277 253 132\n",
      " 183 255 223 336 288 229 319 199 203 228 246 235 294 281 202 361 287 291\n",
      " 313 206 269 279 261 214 274 250 187 240 241 323 322 227 225 233 338 283\n",
      " 327 204 352 165 251 299 314 285 238 328 278 332 243 201 307 272 252 242\n",
      " 284 297 324 260 262 326 295 218 234 353 300 355 306 298 331 341 318 333\n",
      " 372 311 310 345 264 325 293 348 350 351]\n",
      "arrival_year: [2017 2018]\n",
      "arrival_month: [10 11  2  5  4  9 12  7  6  8  3  1]\n",
      "arrival_date: [ 2  6 28 20 11 13 15 26 18 30  5 10  4 25 22 21 19 17  7  9 27  1 29 16\n",
      "  3 24 14 31 23  8 12]\n",
      "market_segment_type: [0 1 2 3 4]\n",
      "repeated_guest: [0 1]\n",
      "no_of_previous_cancellations: [ 0  3  1  2 11  4  5 13  6]\n",
      "no_of_previous_bookings_not_canceled: [ 0  5  1  3  4 12 19  2 15 17  7 20 16 50 13  6 14 34 18  8 10 23 11 49\n",
      " 47 53  9 33 22 24 52 21 48 28 39 25 31 38 26 51 42 37 35 56 44 27 32 55\n",
      " 45 30 57 46 54 43 58 41 29 40 36]\n",
      "avg_price_per_room: [ 65.   106.68  60.   ... 118.43 137.25 167.8 ]\n",
      "no_of_special_requests: [0 1 3 2 4 5]\n",
      "booking_status: ['Not_Canceled' 'Canceled']\n"
     ]
    }
   ],
   "source": [
    "for column in hotels:\n",
    "    unique = hotels[column].unique()\n",
    "    print(f\"{column}: {unique}\")"
   ],
   "metadata": {
    "collapsed": false
   }
  },
  {
   "cell_type": "code",
   "execution_count": 21,
   "outputs": [],
   "source": [
    "X = hotels.drop(['Booking_ID', 'booking_status'], axis=1)\n",
    "y = hotels['booking_status']\n",
    "X_train, X_test, y_train, y_test = train_test_split(X, y, test_size=0.2, random_state=777)\n",
    "model = RandomForestClassifier(777)\n",
    "model.fit(X_train, y_train)\n",
    "y_pred = model.predict(X_test)"
   ],
   "metadata": {
    "collapsed": false
   }
  },
  {
   "cell_type": "code",
   "execution_count": 22,
   "outputs": [
    {
     "name": "stdout",
     "output_type": "stream",
     "text": [
      "accuracy: 0.9065472088215024\n"
     ]
    }
   ],
   "source": [
    "accuracy = accuracy_score(y_test, y_pred)\n",
    "print(f\"accuracy: {accuracy}\")"
   ],
   "metadata": {
    "collapsed": false
   }
  },
  {
   "cell_type": "code",
   "execution_count": 23,
   "outputs": [
    {
     "name": "stdout",
     "output_type": "stream",
     "text": [
      "              precision    recall  f1-score   support\n",
      "\n",
      "    Canceled       0.90      0.81      0.85      2397\n",
      "Not_Canceled       0.91      0.95      0.93      4858\n",
      "\n",
      "    accuracy                           0.91      7255\n",
      "   macro avg       0.90      0.88      0.89      7255\n",
      "weighted avg       0.91      0.91      0.91      7255\n",
      "\n"
     ]
    }
   ],
   "source": [
    "classification = classification_report(y_test, y_pred)\n",
    "print(classification)"
   ],
   "metadata": {
    "collapsed": false
   }
  },
  {
   "cell_type": "code",
   "execution_count": 24,
   "outputs": [
    {
     "name": "stdout",
     "output_type": "stream",
     "text": [
      "[[1941  456]\n",
      " [ 222 4636]]\n"
     ]
    }
   ],
   "source": [
    "confusion_matrix = confusion_matrix(y_test, y_pred)\n",
    "print(confusion_matrix)"
   ],
   "metadata": {
    "collapsed": false
   }
  }
 ],
 "metadata": {
  "kernelspec": {
   "display_name": "Python 3",
   "language": "python",
   "name": "python3"
  },
  "language_info": {
   "codemirror_mode": {
    "name": "ipython",
    "version": 2
   },
   "file_extension": ".py",
   "mimetype": "text/x-python",
   "name": "python",
   "nbconvert_exporter": "python",
   "pygments_lexer": "ipython2",
   "version": "2.7.6"
  }
 },
 "nbformat": 4,
 "nbformat_minor": 0
}
